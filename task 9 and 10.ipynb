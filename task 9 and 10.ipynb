{
 "cells": [
  {
   "cell_type": "code",
   "execution_count": 1,
   "id": "21d72025-816a-4541-b390-f031026278f9",
   "metadata": {},
   "outputs": [
    {
     "name": "stdout",
     "output_type": "stream",
     "text": [
      "Requirement already satisfied: pip in c:\\users\\sara iqbal\\appdata\\local\\programs\\python\\python312\\lib\\site-packages (24.3.1)\n",
      "Collecting pip\n",
      "  Downloading pip-25.1.1-py3-none-any.whl.metadata (3.6 kB)\n",
      "Requirement already satisfied: setuptools in c:\\users\\sara iqbal\\appdata\\local\\programs\\python\\python312\\lib\\site-packages (75.1.0)\n",
      "Collecting setuptools\n",
      "  Using cached setuptools-80.4.0-py3-none-any.whl.metadata (6.5 kB)\n",
      "Collecting wheel\n",
      "  Downloading wheel-0.45.1-py3-none-any.whl.metadata (2.3 kB)\n",
      "Downloading pip-25.1.1-py3-none-any.whl (1.8 MB)\n",
      "   ---------------------------------------- 0.0/1.8 MB ? eta -:--:--\n",
      "   ---------------------------------------- 1.8/1.8 MB 14.3 MB/s eta 0:00:00\n",
      "Using cached setuptools-80.4.0-py3-none-any.whl (1.2 MB)\n",
      "Downloading wheel-0.45.1-py3-none-any.whl (72 kB)\n"
     ]
    },
    {
     "name": "stderr",
     "output_type": "stream",
     "text": [
      "\n",
      "[notice] A new release of pip is available: 24.3.1 -> 25.1.1\n",
      "[notice] To update, run: python.exe -m pip install --upgrade pip\n",
      "ERROR: To modify pip, please run the following command:\n",
      "C:\\Users\\Sara Iqbal\\AppData\\Local\\Programs\\Python\\Python312\\python.exe -m pip install --upgrade pip setuptools wheel\n"
     ]
    },
    {
     "name": "stdout",
     "output_type": "stream",
     "text": [
      "Requirement already satisfied: gym==0.26.2 in c:\\users\\sara iqbal\\appdata\\local\\programs\\python\\python312\\lib\\site-packages (0.26.2)\n",
      "Requirement already satisfied: numpy>=1.18.0 in c:\\users\\sara iqbal\\appdata\\local\\programs\\python\\python312\\lib\\site-packages (from gym==0.26.2) (2.2.5)\n",
      "Requirement already satisfied: cloudpickle>=1.2.0 in c:\\users\\sara iqbal\\appdata\\local\\programs\\python\\python312\\lib\\site-packages (from gym==0.26.2) (3.1.0)\n",
      "Requirement already satisfied: gym_notices>=0.0.4 in c:\\users\\sara iqbal\\appdata\\local\\programs\\python\\python312\\lib\\site-packages (from gym==0.26.2) (0.0.8)\n"
     ]
    },
    {
     "name": "stderr",
     "output_type": "stream",
     "text": [
      "\n",
      "[notice] A new release of pip is available: 24.3.1 -> 25.1.1\n",
      "[notice] To update, run: python.exe -m pip install --upgrade pip\n",
      "ERROR: Could not find a version that satisfies the requirement ale-py==0.7.4 (from versions: 0.9.0, 0.9.1, 0.10.0, 0.10.1, 0.10.2, 0.11.0)\n",
      "\n",
      "[notice] A new release of pip is available: 24.3.1 -> 25.1.1\n",
      "[notice] To update, run: python.exe -m pip install --upgrade pip\n",
      "ERROR: No matching distribution found for ale-py==0.7.4\n"
     ]
    },
    {
     "name": "stdout",
     "output_type": "stream",
     "text": [
      "Collecting autorom[accept-rom-license]\n",
      "  Downloading AutoROM-0.6.1-py3-none-any.whl.metadata (2.4 kB)\n",
      "Requirement already satisfied: click in c:\\users\\sara iqbal\\appdata\\local\\programs\\python\\python312\\lib\\site-packages (from autorom[accept-rom-license]) (8.1.7)\n",
      "Requirement already satisfied: requests in c:\\users\\sara iqbal\\appdata\\local\\programs\\python\\python312\\lib\\site-packages (from autorom[accept-rom-license]) (2.32.3)\n",
      "Collecting AutoROM.accept-rom-license (from autorom[accept-rom-license])\n",
      "  Downloading AutoROM.accept-rom-license-0.6.1.tar.gz (434 kB)\n",
      "  Installing build dependencies: started\n",
      "  Installing build dependencies: finished with status 'done'\n",
      "  Getting requirements to build wheel: started\n",
      "  Getting requirements to build wheel: finished with status 'done'\n",
      "  Preparing metadata (pyproject.toml): started\n",
      "  Preparing metadata (pyproject.toml): finished with status 'done'\n",
      "Requirement already satisfied: colorama in c:\\users\\sara iqbal\\appdata\\local\\programs\\python\\python312\\lib\\site-packages (from click->autorom[accept-rom-license]) (0.4.6)\n",
      "Requirement already satisfied: charset-normalizer<4,>=2 in c:\\users\\sara iqbal\\appdata\\local\\programs\\python\\python312\\lib\\site-packages (from requests->autorom[accept-rom-license]) (3.3.2)\n",
      "Requirement already satisfied: idna<4,>=2.5 in c:\\users\\sara iqbal\\appdata\\local\\programs\\python\\python312\\lib\\site-packages (from requests->autorom[accept-rom-license]) (3.10)\n",
      "Requirement already satisfied: urllib3<3,>=1.21.1 in c:\\users\\sara iqbal\\appdata\\local\\programs\\python\\python312\\lib\\site-packages (from requests->autorom[accept-rom-license]) (1.26.20)\n",
      "Requirement already satisfied: certifi>=2017.4.17 in c:\\users\\sara iqbal\\appdata\\local\\programs\\python\\python312\\lib\\site-packages (from requests->autorom[accept-rom-license]) (2024.8.30)\n",
      "Downloading AutoROM-0.6.1-py3-none-any.whl (9.4 kB)\n",
      "Building wheels for collected packages: AutoROM.accept-rom-license\n",
      "  Building wheel for AutoROM.accept-rom-license (pyproject.toml): started\n",
      "  Building wheel for AutoROM.accept-rom-license (pyproject.toml): finished with status 'done'\n",
      "  Created wheel for AutoROM.accept-rom-license: filename=autorom_accept_rom_license-0.6.1-py3-none-any.whl size=446730 sha256=44b0ba0bce80c285b3bca06967f3b632e4ffcf0d8a6b66ca0389ded8b4de4ea2\n",
      "  Stored in directory: C:\\Users\\Sara Iqbal\\AppData\\Local\\Temp\\pip-ephem-wheel-cache-5um4e5tc\\wheels\\99\\f1\\ff\\c6966c034a8259164bdc9deb4d1ea839f119474638100e6645\n",
      "Successfully built AutoROM.accept-rom-license\n",
      "Installing collected packages: AutoROM.accept-rom-license, autorom\n",
      "Successfully installed AutoROM.accept-rom-license-0.6.1 autorom-0.6.1\n"
     ]
    },
    {
     "name": "stderr",
     "output_type": "stream",
     "text": [
      "\n",
      "[notice] A new release of pip is available: 24.3.1 -> 25.1.1\n",
      "[notice] To update, run: python.exe -m pip install --upgrade pip\n"
     ]
    },
    {
     "name": "stdout",
     "output_type": "stream",
     "text": [
      "Requirement already satisfied: matplotlib in c:\\users\\sara iqbal\\appdata\\local\\programs\\python\\python312\\lib\\site-packages (3.9.2)\n",
      "Requirement already satisfied: ray[rllib] in c:\\users\\sara iqbal\\appdata\\local\\programs\\python\\python312\\lib\\site-packages (2.46.0)\n",
      "Requirement already satisfied: click>=7.0 in c:\\users\\sara iqbal\\appdata\\local\\programs\\python\\python312\\lib\\site-packages (from ray[rllib]) (8.1.7)\n",
      "Requirement already satisfied: filelock in c:\\users\\sara iqbal\\appdata\\local\\programs\\python\\python312\\lib\\site-packages (from ray[rllib]) (3.17.0)\n",
      "Requirement already satisfied: jsonschema in c:\\users\\sara iqbal\\appdata\\local\\programs\\python\\python312\\lib\\site-packages (from ray[rllib]) (4.23.0)\n",
      "Requirement already satisfied: msgpack<2.0.0,>=1.0.0 in c:\\users\\sara iqbal\\appdata\\local\\programs\\python\\python312\\lib\\site-packages (from ray[rllib]) (1.1.0)\n",
      "Requirement already satisfied: packaging in c:\\users\\sara iqbal\\appdata\\local\\programs\\python\\python312\\lib\\site-packages (from ray[rllib]) (24.1)\n",
      "Requirement already satisfied: protobuf!=3.19.5,>=3.15.3 in c:\\users\\sara iqbal\\appdata\\local\\programs\\python\\python312\\lib\\site-packages (from ray[rllib]) (6.30.2)\n",
      "Requirement already satisfied: pyyaml in c:\\users\\sara iqbal\\appdata\\local\\programs\\python\\python312\\lib\\site-packages (from ray[rllib]) (6.0.2)\n",
      "Requirement already satisfied: requests in c:\\users\\sara iqbal\\appdata\\local\\programs\\python\\python312\\lib\\site-packages (from ray[rllib]) (2.32.3)\n",
      "Requirement already satisfied: pandas in c:\\users\\sara iqbal\\appdata\\local\\programs\\python\\python312\\lib\\site-packages (from ray[rllib]) (2.2.3)\n",
      "Requirement already satisfied: tensorboardX>=1.9 in c:\\users\\sara iqbal\\appdata\\local\\programs\\python\\python312\\lib\\site-packages (from ray[rllib]) (2.6.2.2)\n",
      "Requirement already satisfied: pyarrow>=9.0.0 in c:\\users\\sara iqbal\\appdata\\local\\programs\\python\\python312\\lib\\site-packages (from ray[rllib]) (20.0.0)\n",
      "Requirement already satisfied: fsspec in c:\\users\\sara iqbal\\appdata\\local\\programs\\python\\python312\\lib\\site-packages (from ray[rllib]) (2024.12.0)\n",
      "Requirement already satisfied: dm_tree in c:\\users\\sara iqbal\\appdata\\local\\programs\\python\\python312\\lib\\site-packages (from ray[rllib]) (0.1.9)\n",
      "Requirement already satisfied: gymnasium==1.0.0 in c:\\users\\sara iqbal\\appdata\\local\\programs\\python\\python312\\lib\\site-packages (from ray[rllib]) (1.0.0)\n",
      "Requirement already satisfied: lz4 in c:\\users\\sara iqbal\\appdata\\local\\programs\\python\\python312\\lib\\site-packages (from ray[rllib]) (4.4.4)\n",
      "Requirement already satisfied: ormsgpack==1.7.0 in c:\\users\\sara iqbal\\appdata\\local\\programs\\python\\python312\\lib\\site-packages (from ray[rllib]) (1.7.0)\n",
      "Requirement already satisfied: scipy in c:\\users\\sara iqbal\\appdata\\local\\programs\\python\\python312\\lib\\site-packages (from ray[rllib]) (1.14.1)\n",
      "Requirement already satisfied: numpy>=1.21.0 in c:\\users\\sara iqbal\\appdata\\local\\programs\\python\\python312\\lib\\site-packages (from gymnasium==1.0.0->ray[rllib]) (2.2.5)\n",
      "Requirement already satisfied: cloudpickle>=1.2.0 in c:\\users\\sara iqbal\\appdata\\local\\programs\\python\\python312\\lib\\site-packages (from gymnasium==1.0.0->ray[rllib]) (3.1.0)\n",
      "Requirement already satisfied: typing-extensions>=4.3.0 in c:\\users\\sara iqbal\\appdata\\local\\programs\\python\\python312\\lib\\site-packages (from gymnasium==1.0.0->ray[rllib]) (4.12.2)\n",
      "Requirement already satisfied: farama-notifications>=0.0.1 in c:\\users\\sara iqbal\\appdata\\local\\programs\\python\\python312\\lib\\site-packages (from gymnasium==1.0.0->ray[rllib]) (0.0.4)\n",
      "Requirement already satisfied: contourpy>=1.0.1 in c:\\users\\sara iqbal\\appdata\\local\\programs\\python\\python312\\lib\\site-packages (from matplotlib) (1.3.0)\n",
      "Requirement already satisfied: cycler>=0.10 in c:\\users\\sara iqbal\\appdata\\local\\programs\\python\\python312\\lib\\site-packages (from matplotlib) (0.12.1)\n",
      "Requirement already satisfied: fonttools>=4.22.0 in c:\\users\\sara iqbal\\appdata\\local\\programs\\python\\python312\\lib\\site-packages (from matplotlib) (4.54.1)\n",
      "Requirement already satisfied: kiwisolver>=1.3.1 in c:\\users\\sara iqbal\\appdata\\local\\programs\\python\\python312\\lib\\site-packages (from matplotlib) (1.4.7)\n",
      "Requirement already satisfied: pillow>=8 in c:\\users\\sara iqbal\\appdata\\local\\programs\\python\\python312\\lib\\site-packages (from matplotlib) (10.4.0)\n",
      "Requirement already satisfied: pyparsing>=2.3.1 in c:\\users\\sara iqbal\\appdata\\local\\programs\\python\\python312\\lib\\site-packages (from matplotlib) (3.2.0)\n",
      "Requirement already satisfied: python-dateutil>=2.7 in c:\\users\\sara iqbal\\appdata\\local\\programs\\python\\python312\\lib\\site-packages (from matplotlib) (2.9.0.post0)\n",
      "Requirement already satisfied: colorama in c:\\users\\sara iqbal\\appdata\\local\\programs\\python\\python312\\lib\\site-packages (from click>=7.0->ray[rllib]) (0.4.6)\n",
      "Requirement already satisfied: six>=1.5 in c:\\users\\sara iqbal\\appdata\\local\\programs\\python\\python312\\lib\\site-packages (from python-dateutil>=2.7->matplotlib) (1.16.0)\n",
      "Requirement already satisfied: absl-py>=0.6.1 in c:\\users\\sara iqbal\\appdata\\local\\programs\\python\\python312\\lib\\site-packages (from dm_tree->ray[rllib]) (2.1.0)\n",
      "Requirement already satisfied: attrs>=18.2.0 in c:\\users\\sara iqbal\\appdata\\local\\programs\\python\\python312\\lib\\site-packages (from dm_tree->ray[rllib]) (24.2.0)\n",
      "Requirement already satisfied: wrapt>=1.11.2 in c:\\users\\sara iqbal\\appdata\\local\\programs\\python\\python312\\lib\\site-packages (from dm_tree->ray[rllib]) (1.17.2)\n",
      "Requirement already satisfied: jsonschema-specifications>=2023.03.6 in c:\\users\\sara iqbal\\appdata\\local\\programs\\python\\python312\\lib\\site-packages (from jsonschema->ray[rllib]) (2024.10.1)\n",
      "Requirement already satisfied: referencing>=0.28.4 in c:\\users\\sara iqbal\\appdata\\local\\programs\\python\\python312\\lib\\site-packages (from jsonschema->ray[rllib]) (0.35.1)\n",
      "Requirement already satisfied: rpds-py>=0.7.1 in c:\\users\\sara iqbal\\appdata\\local\\programs\\python\\python312\\lib\\site-packages (from jsonschema->ray[rllib]) (0.20.0)\n",
      "Requirement already satisfied: pytz>=2020.1 in c:\\users\\sara iqbal\\appdata\\local\\programs\\python\\python312\\lib\\site-packages (from pandas->ray[rllib]) (2024.2)\n",
      "Requirement already satisfied: tzdata>=2022.7 in c:\\users\\sara iqbal\\appdata\\local\\programs\\python\\python312\\lib\\site-packages (from pandas->ray[rllib]) (2024.2)\n",
      "Requirement already satisfied: charset-normalizer<4,>=2 in c:\\users\\sara iqbal\\appdata\\local\\programs\\python\\python312\\lib\\site-packages (from requests->ray[rllib]) (3.3.2)\n",
      "Requirement already satisfied: idna<4,>=2.5 in c:\\users\\sara iqbal\\appdata\\local\\programs\\python\\python312\\lib\\site-packages (from requests->ray[rllib]) (3.10)\n",
      "Requirement already satisfied: urllib3<3,>=1.21.1 in c:\\users\\sara iqbal\\appdata\\local\\programs\\python\\python312\\lib\\site-packages (from requests->ray[rllib]) (1.26.20)\n",
      "Requirement already satisfied: certifi>=2017.4.17 in c:\\users\\sara iqbal\\appdata\\local\\programs\\python\\python312\\lib\\site-packages (from requests->ray[rllib]) (2024.8.30)\n"
     ]
    },
    {
     "name": "stderr",
     "output_type": "stream",
     "text": [
      "\n",
      "[notice] A new release of pip is available: 24.3.1 -> 25.1.1\n",
      "[notice] To update, run: python.exe -m pip install --upgrade pip\n"
     ]
    }
   ],
   "source": [
    "!pip install --upgrade pip setuptools wheel\n",
    "!pip install gym==0.26.2\n",
    "!pip install ale-py==0.7.4\n",
    "!pip install autorom[accept-rom-license] --no-cache-dir\n",
    "!pip install \"ray[rllib]\" matplotlib"
   ]
  },
  {
   "cell_type": "code",
   "execution_count": 3,
   "id": "45976289-6795-4ee3-9cba-82ae6c0cc432",
   "metadata": {},
   "outputs": [],
   "source": [
    "# Import Required Libraries\n",
    "\n",
    "import ray\n",
    "from ray import tune, air\n",
    "from ray.rllib.algorithms.ppo import PPOConfig\n",
    "import matplotlib.pyplot as plt\n",
    "import os\n",
    "import json\n",
    "import numpy as np"
   ]
  },
  {
   "cell_type": "code",
   "execution_count": null,
   "id": "12601dc1-ee33-4599-9889-7ffa81389d96",
   "metadata": {},
   "outputs": [
    {
     "name": "stderr",
     "output_type": "stream",
     "text": [
      "2025-05-11 15:39:24,149\tERROR services.py:1362 -- Failed to start the dashboard , return code 3221226505\n",
      "2025-05-11 15:39:24,154\tERROR services.py:1387 -- Error should be written to 'dashboard.log' or 'dashboard.err'. We are printing the last 20 lines for you. See 'https://docs.ray.io/en/master/ray-observability/user-guides/configure-logging.html#logging-directory-structure' to find where the log file is.\n",
      "2025-05-11 15:39:24,157\tERROR services.py:1431 -- \n",
      "The last 20 lines of C:\\Users\\SARAIQ~1\\AppData\\Local\\Temp\\ray\\session_2025-05-11_15-39-13_301673_34884\\logs\\dashboard.log (it contains the error message from the dashboard): \n",
      "Traceback (most recent call last):\n",
      "  File \"C:\\Users\\Sara Iqbal\\AppData\\Local\\Programs\\Python\\Python312\\Lib\\site-packages\\ray\\dashboard\\dashboard.py\", line 247, in <module>\n",
      "    logging_utils.redirect_stdout_stderr_if_needed(\n",
      "  File \"C:\\Users\\Sara Iqbal\\AppData\\Local\\Programs\\Python\\Python312\\Lib\\site-packages\\ray\\_private\\logging_utils.py\", line 48, in redirect_stdout_stderr_if_needed\n",
      "    sys.stderr = open_log(stderr_fileno, unbuffered=True, closefd=False)\n",
      "                 ^^^^^^^^^^^^^^^^^^^^^^^^^^^^^^^^^^^^^^^^^^^^^^^^^^^^^^^\n",
      "  File \"C:\\Users\\Sara Iqbal\\AppData\\Local\\Programs\\Python\\Python312\\Lib\\site-packages\\ray\\_private\\utils.py\", line 446, in open_log\n",
      "    stream = open(path, **kwargs)\n",
      "             ^^^^^^^^^^^^^^^^^^^^\n",
      "OSError: [WinError 6] The handle is invalid\n",
      "\n",
      "\n",
      "2025-05-11 15:39:24,538\tINFO worker.py:1888 -- Started a local Ray instance.\n"
     ]
    }
   ],
   "source": [
    "# Initialize Ray and Configure PPO for Pong\n",
    "\n",
    "ray.shutdown() # restart Ray if already running\n",
    "ray.init(ignore_reinit_error=True)\n",
    "\n",
    "config = (\n",
    "PPOConfig()\n",
    ".environment(\"PongNoFrameskip-v4\")\n",
    ".framework(\"torch\")\n",
    ".rollouts(num_rollout_workers=2)\n",
    ".training(\n",
    "gamma=0.99,\n",
    "lr=5e-4,\n",
    "train_batch_size=4000,\n",
    ")\n",
    ".resources(num_gpus=0) # set to 1 if running on GPU\n",
    ")"
   ]
  },
  {
   "cell_type": "code",
   "execution_count": null,
   "id": "a5c2c159-9e49-4b26-9b2b-6042e2143b43",
   "metadata": {},
   "outputs": [],
   "source": [
    "# Train the PPO Agent (20 Iterations)\n",
    "\n",
    "tuner = tune.Tuner(\n",
    "\"PPO\",\n",
    "param_space=config.to_dict(),\n",
    "run_config=air.RunConfig(\n",
    "stop={\"training_iteration\": 20},\n",
    "checkpoint_config=air.CheckpointConfig(checkpoint_at_end=True),\n",
    "verbose=1,\n",
    "name=\"PPO_Pong_Training\",\n",
    "),\n",
    ")\n",
    "results = tuner.fit()"
   ]
  },
  {
   "cell_type": "code",
   "execution_count": null,
   "id": "b014d70b-767a-4914-9638-c3c6938a59d6",
   "metadata": {},
   "outputs": [],
   "source": [
    "# Extract Training Results\n",
    "\n",
    "result_dir = results.get_best_result().log_dir\n",
    "metrics_path = os.path.join(result_dir, \"result.json\")\n",
    "\n",
    "iterations = []\n",
    "mean_rewards = []\n",
    "reward_variance = []\n",
    "\n",
    "with open(metrics_path, \"r\") as f:\n",
    "for line in f:\n",
    "data = json.loads(line)\n",
    "if \"episode_reward_mean\" in data:\n",
    "iterations.append(data[\"training_iteration\"])\n",
    "mean_rewards.append(data[\"episode_reward_mean\"])\n",
    "reward_variance.append(np.var(data.get(\"hist_stats\", {}).get(\"episode_reward\", [0])))"
   ]
  },
  {
   "cell_type": "code",
   "execution_count": null,
   "id": "9565c525-5d2d-49b8-bd4f-99acea5dd7d7",
   "metadata": {},
   "outputs": [],
   "source": [
    "#STEP 6: Plot Mean Episode Reward\n",
    "\n",
    "plt.figure(figsize=(10, 5))\n",
    "plt.plot(iterations, mean_rewards, marker='o', label=\"Mean Reward\")\n",
    "plt.xlabel(\"Training Iteration\")\n",
    "plt.ylabel(\"Mean Episode Reward\")\n",
    "plt.title(\"PPO on Pong – Mean Episode Reward\")\n",
    "plt.grid(True)\n",
    "plt.legend()\n",
    "plt.tight_layout()\n",
    "plt.show()\n"
   ]
  },
  {
   "cell_type": "code",
   "execution_count": null,
   "id": "4dbdae54-f2d6-42a7-881f-17e5fdc222eb",
   "metadata": {},
   "outputs": [],
   "source": [
    "#STEP 7: Plot Reward Variance\n",
    "\n",
    "plt.figure(figsize=(10, 5))\n",
    "plt.plot(iterations, reward_variance, marker='x', color='orange', label=\"Reward Variance\")\n",
    "plt.xlabel(\"Training Iteration\")\n",
    "plt.ylabel(\"Reward Variance\")\n",
    "plt.title(\"PPO on Pong – Reward Variance\")\n",
    "plt.grid(True)\n",
    "plt.legend()\n",
    "plt.tight_layout()\n",
    "plt.show()"
   ]
  },
  {
   "cell_type": "code",
   "execution_count": null,
   "id": "861886a4-0aa8-4df9-85cb-4e3b180fd6be",
   "metadata": {},
   "outputs": [],
   "source": [
    "#STEP 8: Clean Up \n",
    "ray.shutdown()\n"
   ]
  }
 ],
 "metadata": {
  "kernelspec": {
   "display_name": "Python 3 (ipykernel)",
   "language": "python",
   "name": "python3"
  },
  "language_info": {
   "codemirror_mode": {
    "name": "ipython",
    "version": 3
   },
   "file_extension": ".py",
   "mimetype": "text/x-python",
   "name": "python",
   "nbconvert_exporter": "python",
   "pygments_lexer": "ipython3",
   "version": "3.12.4"
  }
 },
 "nbformat": 4,
 "nbformat_minor": 5
}
